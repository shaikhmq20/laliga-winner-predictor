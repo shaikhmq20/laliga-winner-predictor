{
 "cells": [
  {
   "cell_type": "code",
   "execution_count": 5,
   "metadata": {},
   "outputs": [
    {
     "name": "stdout",
     "output_type": "stream",
     "text": [
      "Accuracy of the model: 0.980178949281238\n",
      "The predicted winning team in La Liga for 2023 is: Real Madrid\n"
     ]
    }
   ],
   "source": [
    "import pandas as pd\n",
    "import numpy as np\n",
    "from sklearn.ensemble import GradientBoostingRegressor\n",
    "from sklearn.model_selection import train_test_split\n",
    "from sklearn.metrics import mean_squared_error\n",
    "\n",
    "\n",
    "data_path = \"./normalized_data/consolidated.csv\"\n",
    "df = pd.read_csv(data_path)\n",
    "\n",
    "\n",
    "X = df.drop([\"team\", \"points\"], axis=1) \n",
    "y = df[\"points\"] \n",
    "\n",
    "\n",
    "X_train, X_test, y_train, y_test = train_test_split(X, y, test_size=0.8, random_state=42)\n",
    "\n",
    "\n",
    "gb_model = GradientBoostingRegressor(n_estimators=100, random_state=42)\n",
    "gb_model.fit(X_train, y_train)\n",
    "\n",
    "y_pred = gb_model.predict(X_test)\n",
    "\n",
    "mse = mean_squared_error(y_test, y_pred)\n",
    "accuracy = 1 - (mse / np.var(y_test))\n",
    "\n",
    "\n",
    "print(\"Accuracy of the model:\", accuracy)\n",
    "\n",
    "\n",
    "X_pred = df.drop([\"team\", \"points\"], axis=1)\n",
    "\n",
    "y_pred = gb_model.predict(X_pred)\n",
    "\n",
    "\n",
    "winning_team_index = np.argmax(y_pred)\n",
    " \n",
    "winning_team = df.iloc[winning_team_index][\"team\"]\n",
    "\n",
    "\n",
    "print(\"The predicted winning team in La Liga for 2023 is:\", winning_team)\n"
   ]
  }
 ],
 "metadata": {
  "kernelspec": {
   "display_name": "Python 3",
   "language": "python",
   "name": "python3"
  },
  "language_info": {
   "codemirror_mode": {
    "name": "ipython",
    "version": 3
   },
   "file_extension": ".py",
   "mimetype": "text/x-python",
   "name": "python",
   "nbconvert_exporter": "python",
   "pygments_lexer": "ipython3",
   "version": "3.11.0"
  },
  "orig_nbformat": 4
 },
 "nbformat": 4,
 "nbformat_minor": 2
}
