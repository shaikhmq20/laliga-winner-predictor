{
 "cells": [
  {
   "cell_type": "code",
   "execution_count": 1,
   "metadata": {},
   "outputs": [],
   "source": [
    "import pandas as pd\n",
    "import numpy as np\n",
    "from sklearn.model_selection import train_test_split\n",
    "from sklearn.linear_model import LinearRegression\n",
    "from sklearn.metrics import mean_squared_error, r2_score\n"
   ]
  },
  {
   "cell_type": "code",
   "execution_count": 5,
   "metadata": {},
   "outputs": [],
   "source": [
    "# Load the dataset\n",
    "df = pd.read_csv(\"./normalized_data/1950-51_normalized.csv\")\n"
   ]
  },
  {
   "cell_type": "code",
   "execution_count": 7,
   "metadata": {},
   "outputs": [
    {
     "name": "stdout",
     "output_type": "stream",
     "text": [
      "<class 'pandas.core.frame.DataFrame'>\n",
      "RangeIndex: 16 entries, 0 to 15\n",
      "Data columns (total 11 columns):\n",
      " #   Column           Non-Null Count  Dtype  \n",
      "---  ------           --------------  -----  \n",
      " 0   position         16 non-null     int64  \n",
      " 1   team             16 non-null     object \n",
      " 2   points           16 non-null     float64\n",
      " 3   won              16 non-null     float64\n",
      " 4   lost             16 non-null     float64\n",
      " 5   draw             16 non-null     float64\n",
      " 6   played           16 non-null     float64\n",
      " 7   goals_for        16 non-null     float64\n",
      " 8   goals_against    16 non-null     float64\n",
      " 9   goal_difference  16 non-null     float64\n",
      " 10  year             16 non-null     int64  \n",
      "dtypes: float64(8), int64(2), object(1)\n",
      "memory usage: 1.5+ KB\n",
      "None\n",
      "                 position    points       won      lost      draw  played  \\\n",
      "position         1.000000 -0.902371 -0.918637  0.873566 -0.417606     NaN   \n",
      "points          -0.902371  1.000000  0.988092 -0.992251  0.616037     NaN   \n",
      "won             -0.918637  0.988092  1.000000 -0.961318  0.487501     NaN   \n",
      "lost             0.873566 -0.992251 -0.961318  1.000000 -0.709137     NaN   \n",
      "draw            -0.417606  0.616037  0.487501 -0.709137  1.000000     NaN   \n",
      "played                NaN       NaN       NaN       NaN       NaN     NaN   \n",
      "goals_for       -0.704814  0.776789  0.792362 -0.750725  0.351449     NaN   \n",
      "goals_against    0.692296 -0.874043 -0.842306  0.884494 -0.647639     NaN   \n",
      "goal_difference -0.790027  0.948099  0.932775 -0.944010  0.604717     NaN   \n",
      "year                  NaN       NaN       NaN       NaN       NaN     NaN   \n",
      "\n",
      "                 goals_for  goals_against  goal_difference  year  \n",
      "position         -0.704814       0.692296        -0.790027   NaN  \n",
      "points            0.776789      -0.874043         0.948099   NaN  \n",
      "won               0.792362      -0.842306         0.932775   NaN  \n",
      "lost             -0.750725       0.884494        -0.944010   NaN  \n",
      "draw              0.351449      -0.647639         0.604717   NaN  \n",
      "played                 NaN            NaN              NaN   NaN  \n",
      "goals_for         1.000000      -0.532522         0.807474   NaN  \n",
      "goals_against    -0.532522       1.000000        -0.929302   NaN  \n",
      "goal_difference   0.807474      -0.929302         1.000000   NaN  \n",
      "year                   NaN            NaN              NaN   NaN  \n"
     ]
    },
    {
     "name": "stderr",
     "output_type": "stream",
     "text": [
      "C:\\Users\\Sneha\\AppData\\Local\\Temp\\ipykernel_79384\\1896588821.py:5: FutureWarning: The default value of numeric_only in DataFrame.corr is deprecated. In a future version, it will default to False. Select only valid columns or specify the value of numeric_only to silence this warning.\n",
      "  print(df.corr())\n"
     ]
    }
   ],
   "source": [
    "# Check for missing values and data types\n",
    "print(df.info())\n",
    "\n",
    "# Check for correlations between variables\n",
    "print(df.corr())\n",
    "\n",
    "# Define the features and target variable\n",
    "X = df[['played', 'won', 'draw', 'lost', 'goals_for', 'goals_against', 'goal_difference', 'points']]\n",
    "y = df['position']\n",
    "\n",
    "# Split the dataset into training and testing sets\n",
    "X_train, X_test, y_train, y_test = train_test_split(X, y, test_size=0.2, random_state=42)\n"
   ]
  },
  {
   "cell_type": "code",
   "execution_count": 8,
   "metadata": {},
   "outputs": [
    {
     "data": {
      "text/html": [
       "<style>#sk-container-id-1 {color: black;background-color: white;}#sk-container-id-1 pre{padding: 0;}#sk-container-id-1 div.sk-toggleable {background-color: white;}#sk-container-id-1 label.sk-toggleable__label {cursor: pointer;display: block;width: 100%;margin-bottom: 0;padding: 0.3em;box-sizing: border-box;text-align: center;}#sk-container-id-1 label.sk-toggleable__label-arrow:before {content: \"▸\";float: left;margin-right: 0.25em;color: #696969;}#sk-container-id-1 label.sk-toggleable__label-arrow:hover:before {color: black;}#sk-container-id-1 div.sk-estimator:hover label.sk-toggleable__label-arrow:before {color: black;}#sk-container-id-1 div.sk-toggleable__content {max-height: 0;max-width: 0;overflow: hidden;text-align: left;background-color: #f0f8ff;}#sk-container-id-1 div.sk-toggleable__content pre {margin: 0.2em;color: black;border-radius: 0.25em;background-color: #f0f8ff;}#sk-container-id-1 input.sk-toggleable__control:checked~div.sk-toggleable__content {max-height: 200px;max-width: 100%;overflow: auto;}#sk-container-id-1 input.sk-toggleable__control:checked~label.sk-toggleable__label-arrow:before {content: \"▾\";}#sk-container-id-1 div.sk-estimator input.sk-toggleable__control:checked~label.sk-toggleable__label {background-color: #d4ebff;}#sk-container-id-1 div.sk-label input.sk-toggleable__control:checked~label.sk-toggleable__label {background-color: #d4ebff;}#sk-container-id-1 input.sk-hidden--visually {border: 0;clip: rect(1px 1px 1px 1px);clip: rect(1px, 1px, 1px, 1px);height: 1px;margin: -1px;overflow: hidden;padding: 0;position: absolute;width: 1px;}#sk-container-id-1 div.sk-estimator {font-family: monospace;background-color: #f0f8ff;border: 1px dotted black;border-radius: 0.25em;box-sizing: border-box;margin-bottom: 0.5em;}#sk-container-id-1 div.sk-estimator:hover {background-color: #d4ebff;}#sk-container-id-1 div.sk-parallel-item::after {content: \"\";width: 100%;border-bottom: 1px solid gray;flex-grow: 1;}#sk-container-id-1 div.sk-label:hover label.sk-toggleable__label {background-color: #d4ebff;}#sk-container-id-1 div.sk-serial::before {content: \"\";position: absolute;border-left: 1px solid gray;box-sizing: border-box;top: 0;bottom: 0;left: 50%;z-index: 0;}#sk-container-id-1 div.sk-serial {display: flex;flex-direction: column;align-items: center;background-color: white;padding-right: 0.2em;padding-left: 0.2em;position: relative;}#sk-container-id-1 div.sk-item {position: relative;z-index: 1;}#sk-container-id-1 div.sk-parallel {display: flex;align-items: stretch;justify-content: center;background-color: white;position: relative;}#sk-container-id-1 div.sk-item::before, #sk-container-id-1 div.sk-parallel-item::before {content: \"\";position: absolute;border-left: 1px solid gray;box-sizing: border-box;top: 0;bottom: 0;left: 50%;z-index: -1;}#sk-container-id-1 div.sk-parallel-item {display: flex;flex-direction: column;z-index: 1;position: relative;background-color: white;}#sk-container-id-1 div.sk-parallel-item:first-child::after {align-self: flex-end;width: 50%;}#sk-container-id-1 div.sk-parallel-item:last-child::after {align-self: flex-start;width: 50%;}#sk-container-id-1 div.sk-parallel-item:only-child::after {width: 0;}#sk-container-id-1 div.sk-dashed-wrapped {border: 1px dashed gray;margin: 0 0.4em 0.5em 0.4em;box-sizing: border-box;padding-bottom: 0.4em;background-color: white;}#sk-container-id-1 div.sk-label label {font-family: monospace;font-weight: bold;display: inline-block;line-height: 1.2em;}#sk-container-id-1 div.sk-label-container {text-align: center;}#sk-container-id-1 div.sk-container {/* jupyter's `normalize.less` sets `[hidden] { display: none; }` but bootstrap.min.css set `[hidden] { display: none !important; }` so we also need the `!important` here to be able to override the default hidden behavior on the sphinx rendered scikit-learn.org. See: https://github.com/scikit-learn/scikit-learn/issues/21755 */display: inline-block !important;position: relative;}#sk-container-id-1 div.sk-text-repr-fallback {display: none;}</style><div id=\"sk-container-id-1\" class=\"sk-top-container\"><div class=\"sk-text-repr-fallback\"><pre>LinearRegression()</pre><b>In a Jupyter environment, please rerun this cell to show the HTML representation or trust the notebook. <br />On GitHub, the HTML representation is unable to render, please try loading this page with nbviewer.org.</b></div><div class=\"sk-container\" hidden><div class=\"sk-item\"><div class=\"sk-estimator sk-toggleable\"><input class=\"sk-toggleable__control sk-hidden--visually\" id=\"sk-estimator-id-1\" type=\"checkbox\" checked><label for=\"sk-estimator-id-1\" class=\"sk-toggleable__label sk-toggleable__label-arrow\">LinearRegression</label><div class=\"sk-toggleable__content\"><pre>LinearRegression()</pre></div></div></div></div></div>"
      ],
      "text/plain": [
       "LinearRegression()"
      ]
     },
     "execution_count": 8,
     "metadata": {},
     "output_type": "execute_result"
    }
   ],
   "source": [
    "# Create an instance of the linear regression model\n",
    "lr_model = LinearRegression()\n",
    "\n",
    "# Train the model using the training data\n",
    "lr_model.fit(X_train, y_train)\n"
   ]
  },
  {
   "cell_type": "code",
   "execution_count": 9,
   "metadata": {},
   "outputs": [
    {
     "name": "stdout",
     "output_type": "stream",
     "text": [
      "Mean Squared Error:  8.336435422721701\n",
      "R-squared Score:  0.7266742484353541\n"
     ]
    }
   ],
   "source": [
    "# Use the trained model to predict on the test data\n",
    "y_pred = lr_model.predict(X_test)\n",
    "\n",
    "# Calculate the mean squared error and R-squared score\n",
    "mse = mean_squared_error(y_test, y_pred)\n",
    "r2 = r2_score(y_test, y_pred)\n",
    "\n",
    "print(\"Mean Squared Error: \", mse)\n",
    "print(\"R-squared Score: \", r2)\n"
   ]
  },
  {
   "cell_type": "code",
   "execution_count": 16,
   "metadata": {},
   "outputs": [
    {
     "name": "stdout",
     "output_type": "stream",
     "text": [
      "              Team  PredictedPoints\n",
      "0      Real Madrid        11.020103\n",
      "1        Barcelona        11.020103\n",
      "2  Atletico Madrid        11.020103\n",
      "3          Sevilla        11.020103\n",
      "4    Real Sociedad        11.020103\n",
      "5       Villarreal        11.020103\n",
      "6       Real Betis        11.020103\n",
      "7  Athletic Bilbao        11.020103\n"
     ]
    }
   ],
   "source": [
    "# Define the features for the future season\n",
    "X_future_season = pd.DataFrame({\n",
    "    'played': [0, 0, 0, 0, 0, 0, 0, 0],\n",
    "    'won': [0, 0, 0, 0, 0, 0, 0, 0],\n",
    "    'draw': [0, 0, 0, 0, 0, 0, 0, 0],\n",
    "    'lost': [0, 0, 0, 0, 0, 0, 0, 0],\n",
    "    'goals_for': [0, 0, 0, 0, 0, 0, 0, 0],\n",
    "    'goals_against': [0, 0, 0, 0, 0, 0, 0, 0],\n",
    "    'goal_difference': [0, 0, 0, 0, 0, 0, 0, 0],\n",
    "    'points': [0, 0, 0, 0, 0, 0, 0, 0]\n",
    "})\n",
    "\n",
    "# Use the trained model to predict the points for the future season\n",
    "predicted_points = lr_model.predict(X_future_season)\n",
    "\n",
    "# Create a new DataFrame with the predicted points for each team\n",
    "predicted_df = pd.DataFrame({\n",
    "    'Team': ['Real Madrid', 'Barcelona', 'Atletico Madrid', 'Sevilla', 'Real Sociedad', 'Villarreal', 'Real Betis', 'Athletic Bilbao'],\n",
    "    'PredictedPoints': predicted_points\n",
    "})\n",
    "\n",
    "# Sort the DataFrame by predicted points in descending order to see which team is most likely to win\n",
    "predicted_df = predicted_df.sort_values(by=['PredictedPoints'], ascending=False)\n",
    "print(predicted_df)\n"
   ]
  }
 ],
 "metadata": {
  "kernelspec": {
   "display_name": "Python 3",
   "language": "python",
   "name": "python3"
  },
  "language_info": {
   "codemirror_mode": {
    "name": "ipython",
    "version": 3
   },
   "file_extension": ".py",
   "mimetype": "text/x-python",
   "name": "python",
   "nbconvert_exporter": "python",
   "pygments_lexer": "ipython3",
   "version": "3.11.0"
  },
  "orig_nbformat": 4
 },
 "nbformat": 4,
 "nbformat_minor": 2
}
