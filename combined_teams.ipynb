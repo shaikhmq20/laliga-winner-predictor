{
 "cells": [
  {
   "cell_type": "code",
   "execution_count": null,
   "metadata": {},
   "outputs": [],
   "source": [
    "import pandas as pd\n",
    "import json"
   ]
  },
  {
   "attachments": {},
   "cell_type": "markdown",
   "metadata": {},
   "source": [
    "Getting All Team Names"
   ]
  },
  {
   "cell_type": "code",
   "execution_count": null,
   "metadata": {},
   "outputs": [],
   "source": [
    "teams = set([])"
   ]
  },
  {
   "cell_type": "code",
   "execution_count": null,
   "metadata": {},
   "outputs": [],
   "source": [
    "for i in range(1, 8):\n",
    "    with open(f\"./team_names/team_names{i}.json\", \"r\") as file:\n",
    "        data = json.load(file)\n",
    "    \n",
    "    for team in data[\"names\"]:\n",
    "        teams.add(team)"
   ]
  },
  {
   "cell_type": "code",
   "execution_count": null,
   "metadata": {},
   "outputs": [
    {
     "data": {
      "text/plain": [
       "['Sevilla',\n",
       " 'Jaén',\n",
       " 'Málaga',\n",
       " 'Real Murcia',\n",
       " 'Las Palmas',\n",
       " 'Real Sociedad',\n",
       " 'Sporting Gijón',\n",
       " 'Getafe',\n",
       " 'Huesca',\n",
       " 'Elche',\n",
       " 'Valencia',\n",
       " 'Burgos',\n",
       " 'Leganés',\n",
       " 'Murcia',\n",
       " 'Levante',\n",
       " 'Barcelona',\n",
       " 'Condal',\n",
       " 'Osasuna',\n",
       " 'Sabadell',\n",
       " 'Compostela',\n",
       " 'Mallorca',\n",
       " 'Real Santander',\n",
       " 'Pontevedra',\n",
       " 'Athletic Bilbao',\n",
       " 'Mérida',\n",
       " 'Betis',\n",
       " 'Real Gijón',\n",
       " 'Rayo Vallecano',\n",
       " 'Recreativo',\n",
       " 'Lleida',\n",
       " 'Atlético Bilbao',\n",
       " 'Alavés',\n",
       " 'Real Madrid',\n",
       " 'Valladolid',\n",
       " 'Tenerife',\n",
       " 'Espanyol',\n",
       " 'Zaragoza',\n",
       " 'Xerez',\n",
       " 'Logroñés',\n",
       " 'Almería',\n",
       " 'Alcoyano',\n",
       " 'Granada',\n",
       " 'Celta Vigo',\n",
       " 'Racing Santander',\n",
       " 'Numancia',\n",
       " 'Español',\n",
       " 'Villarreal',\n",
       " 'Oviedo',\n",
       " 'Cádiz',\n",
       " 'Hércules',\n",
       " 'Córdoba',\n",
       " 'Cultural Leonesa',\n",
       " 'Eibar',\n",
       " 'Girona',\n",
       " 'Extremadura',\n",
       " 'Real Betis',\n",
       " 'Salamanca',\n",
       " 'Gimnàstic',\n",
       " 'Atlético Tetuán',\n",
       " 'Castellón',\n",
       " 'Real Burgos',\n",
       " 'Celta',\n",
       " 'Deportivo La Coruña',\n",
       " 'Albacete',\n",
       " 'Atlético Madrid',\n",
       " 'Celta de Vigo',\n",
       " 'Lérida']"
      ]
     },
     "execution_count": 12,
     "metadata": {},
     "output_type": "execute_result"
    }
   ],
   "source": [
    "teams = list(teams)\n",
    "teams"
   ]
  },
  {
   "cell_type": "code",
   "execution_count": null,
   "metadata": {},
   "outputs": [
    {
     "data": {
      "text/plain": [
       "{'Sevilla': [],\n",
       " 'Jaén': [],\n",
       " 'Málaga': [],\n",
       " 'Real Murcia': [],\n",
       " 'Las Palmas': [],\n",
       " 'Real Sociedad': [],\n",
       " 'Sporting Gijón': [],\n",
       " 'Getafe': [],\n",
       " 'Huesca': [],\n",
       " 'Elche': [],\n",
       " 'Valencia': [],\n",
       " 'Burgos': [],\n",
       " 'Leganés': [],\n",
       " 'Murcia': [],\n",
       " 'Levante': [],\n",
       " 'Barcelona': [],\n",
       " 'Condal': [],\n",
       " 'Osasuna': [],\n",
       " 'Sabadell': [],\n",
       " 'Compostela': [],\n",
       " 'Mallorca': [],\n",
       " 'Real Santander': [],\n",
       " 'Pontevedra': [],\n",
       " 'Athletic Bilbao': [],\n",
       " 'Mérida': [],\n",
       " 'Betis': [],\n",
       " 'Real Gijón': [],\n",
       " 'Rayo Vallecano': [],\n",
       " 'Recreativo': [],\n",
       " 'Lleida': [],\n",
       " 'Atlético Bilbao': [],\n",
       " 'Alavés': [],\n",
       " 'Real Madrid': [],\n",
       " 'Valladolid': [],\n",
       " 'Tenerife': [],\n",
       " 'Espanyol': [],\n",
       " 'Zaragoza': [],\n",
       " 'Xerez': [],\n",
       " 'Logroñés': [],\n",
       " 'Almería': [],\n",
       " 'Alcoyano': [],\n",
       " 'Granada': [],\n",
       " 'Celta Vigo': [],\n",
       " 'Racing Santander': [],\n",
       " 'Numancia': [],\n",
       " 'Español': [],\n",
       " 'Villarreal': [],\n",
       " 'Oviedo': [],\n",
       " 'Cádiz': [],\n",
       " 'Hércules': [],\n",
       " 'Córdoba': [],\n",
       " 'Cultural Leonesa': [],\n",
       " 'Eibar': [],\n",
       " 'Girona': [],\n",
       " 'Extremadura': [],\n",
       " 'Real Betis': [],\n",
       " 'Salamanca': [],\n",
       " 'Gimnàstic': [],\n",
       " 'Atlético Tetuán': [],\n",
       " 'Castellón': [],\n",
       " 'Real Burgos': [],\n",
       " 'Celta': [],\n",
       " 'Deportivo La Coruña': [],\n",
       " 'Albacete': [],\n",
       " 'Atlético Madrid': [],\n",
       " 'Celta de Vigo': [],\n",
       " 'Lérida': []}"
      ]
     },
     "execution_count": 14,
     "metadata": {},
     "output_type": "execute_result"
    }
   ],
   "source": [
    "teams_dict = {}\n",
    "\n",
    "for team in teams:\n",
    "    teams_dict[team] = []\n",
    "\n",
    "teams_dict"
   ]
  },
  {
   "cell_type": "code",
   "execution_count": null,
   "metadata": {},
   "outputs": [],
   "source": [
    "for team in teams:\n",
    "    dfs = []\n",
    "    for i in range(1, 8):\n",
    "        try:\n",
    "            df = pd.read_csv(f\"./teams{i}/{team}.csv\")\n",
    "            dfs.append(df)\n",
    "        except:\n",
    "            continue\n",
    "\n",
    "    teams_dict[team] = pd.concat(dfs)"
   ]
  },
  {
   "cell_type": "code",
   "execution_count": null,
   "metadata": {},
   "outputs": [],
   "source": [
    "for team, df in teams_dict.items():\n",
    "    df.to_csv(f\"./teams/{team}.csv\", index=False)"
   ]
  }
 ],
 "metadata": {
  "kernelspec": {
   "display_name": "Python 3",
   "language": "python",
   "name": "python3"
  },
  "language_info": {
   "codemirror_mode": {
    "name": "ipython",
    "version": 3
   },
   "file_extension": ".py",
   "mimetype": "text/x-python",
   "name": "python",
   "nbconvert_exporter": "python",
   "pygments_lexer": "ipython3",
   "version": "3.11.2"
  },
  "orig_nbformat": 4,
  "vscode": {
   "interpreter": {
    "hash": "52634da84371cba311ea128a5ea7cdc41ff074b781779e754b270ff9f8153cee"
   }
  }
 },
 "nbformat": 4,
 "nbformat_minor": 2
}
