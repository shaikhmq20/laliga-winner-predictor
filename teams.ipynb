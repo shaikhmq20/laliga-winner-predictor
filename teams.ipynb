{
 "cells": [
  {
   "cell_type": "code",
   "execution_count": 20,
   "metadata": {},
   "outputs": [],
   "source": [
    "import pandas as pd"
   ]
  },
  {
   "cell_type": "code",
   "execution_count": 21,
   "metadata": {},
   "outputs": [],
   "source": [
    "team_names = set([])"
   ]
  },
  {
   "cell_type": "code",
   "execution_count": 22,
   "metadata": {},
   "outputs": [],
   "source": [
    "import json"
   ]
  },
  {
   "cell_type": "code",
   "execution_count": 23,
   "metadata": {},
   "outputs": [],
   "source": [
    "for i in range(1, 8):\n",
    "    with open(f\"team_names/team_names{i}.json\", \"r\") as file:\n",
    "        team_name_list = json.load(file)[\"names\"]\n",
    "        for team_name in team_name_list:\n",
    "            team_names.add(team_name)\n",
    "        "
   ]
  },
  {
   "cell_type": "code",
   "execution_count": 24,
   "metadata": {},
   "outputs": [],
   "source": [
    "def get_dir_name(century, i, length):\n",
    "    return f\"csv ({century}{i}-{i + length})\""
   ]
  },
  {
   "cell_type": "code",
   "execution_count": 25,
   "metadata": {},
   "outputs": [],
   "source": [
    "def get_year_string(century, i):\n",
    "    return f\"{century}{i}-{i + 1 if i != 99 else 2000}\""
   ]
  },
  {
   "cell_type": "code",
   "execution_count": 26,
   "metadata": {},
   "outputs": [],
   "source": [
    "df_list = []"
   ]
  },
  {
   "cell_type": "code",
   "execution_count": 27,
   "metadata": {},
   "outputs": [],
   "source": [
    "dir_name = \"\"\n",
    "for i in range(50, 100):\n",
    "    if not i % 10:\n",
    "        dir_name = get_dir_name(19, i, 9)\n",
    "\n",
    "    year_string = get_year_string(19, i)\n",
    "    file_location = f\"{dir_name}/laliga_points_table_{year_string}.csv\"\n",
    "    df = pd.read_csv(file_location)\n",
    "    df[\"year\"] = year_string\n",
    "    df_list.append(df)\n",
    "    "
   ]
  },
  {
   "cell_type": "code",
   "execution_count": 28,
   "metadata": {},
   "outputs": [],
   "source": [
    "dir_name = \"csv (2000-10)\"\n",
    "for i in range(0, 10):\n",
    "    year = f\"200{i}-{0 if i != 9 else 1}{i+1 if i != 9 else 0}\"\n",
    "    file_location = f\"{dir_name}/laliga_points_table_{year}.csv\"\n",
    "    df = pd.read_csv(file_location)\n",
    "    df[\"year\"] = year\n",
    "    df_list.append(df)"
   ]
  },
  {
   "cell_type": "code",
   "execution_count": 29,
   "metadata": {},
   "outputs": [],
   "source": [
    "dir_name = \"csv (2010-21)\"\n",
    "for i in range(10, 22):\n",
    "    year = f\"20{i}-{i+1}\"\n",
    "    file_location = f\"{dir_name}/laliga_points_table_{year}.csv\"\n",
    "    df = pd.read_csv(file_location)\n",
    "    df[\"year\"] = year\n",
    "    df_list.append(df)"
   ]
  },
  {
   "cell_type": "code",
   "execution_count": 30,
   "metadata": {},
   "outputs": [],
   "source": [
    "team_dfs = {team: pd.DataFrame() for team in team_names}"
   ]
  },
  {
   "cell_type": "code",
   "execution_count": 31,
   "metadata": {},
   "outputs": [],
   "source": [
    "for team in team_names:\n",
    "    team_df_list = []\n",
    "\n",
    "    for df in df_list:\n",
    "        team_df = df.loc[df[\"team\"] == team]\n",
    "        if not team_df.empty:\n",
    "            team_df_list.append(team_df)\n",
    "    if len(team_df_list) > 0:\n",
    "        team_dfs[team] = pd.concat(team_df_list, ignore_index=True)"
   ]
  },
  {
   "cell_type": "code",
   "execution_count": 32,
   "metadata": {},
   "outputs": [],
   "source": [
    "for team, df in team_dfs.items():\n",
    "    df.to_csv(f\"teams_updated/{team}.csv\", index=False)"
   ]
  },
  {
   "cell_type": "code",
   "execution_count": 16,
   "metadata": {},
   "outputs": [],
   "source": [
    "consolidated_df = pd.concat(df_list, ignore_index=True)"
   ]
  },
  {
   "cell_type": "code",
   "execution_count": 17,
   "metadata": {},
   "outputs": [
    {
     "data": {
      "text/html": [
       "<div>\n",
       "<style scoped>\n",
       "    .dataframe tbody tr th:only-of-type {\n",
       "        vertical-align: middle;\n",
       "    }\n",
       "\n",
       "    .dataframe tbody tr th {\n",
       "        vertical-align: top;\n",
       "    }\n",
       "\n",
       "    .dataframe thead th {\n",
       "        text-align: right;\n",
       "    }\n",
       "</style>\n",
       "<table border=\"1\" class=\"dataframe\">\n",
       "  <thead>\n",
       "    <tr style=\"text-align: right;\">\n",
       "      <th></th>\n",
       "      <th>position</th>\n",
       "      <th>team</th>\n",
       "      <th>played</th>\n",
       "      <th>won</th>\n",
       "      <th>drawn</th>\n",
       "      <th>lost</th>\n",
       "      <th>goals_for</th>\n",
       "      <th>goals_against</th>\n",
       "      <th>goal_difference</th>\n",
       "      <th>points</th>\n",
       "      <th>year</th>\n",
       "    </tr>\n",
       "  </thead>\n",
       "  <tbody>\n",
       "    <tr>\n",
       "      <th>0</th>\n",
       "      <td>1</td>\n",
       "      <td>Atlético Madrid</td>\n",
       "      <td>30</td>\n",
       "      <td>17</td>\n",
       "      <td>6</td>\n",
       "      <td>7</td>\n",
       "      <td>87</td>\n",
       "      <td>50</td>\n",
       "      <td>+37</td>\n",
       "      <td>40</td>\n",
       "      <td>1950-51</td>\n",
       "    </tr>\n",
       "    <tr>\n",
       "      <th>1</th>\n",
       "      <td>2</td>\n",
       "      <td>Sevilla</td>\n",
       "      <td>30</td>\n",
       "      <td>17</td>\n",
       "      <td>4</td>\n",
       "      <td>9</td>\n",
       "      <td>79</td>\n",
       "      <td>46</td>\n",
       "      <td>+33</td>\n",
       "      <td>38</td>\n",
       "      <td>1950-51</td>\n",
       "    </tr>\n",
       "    <tr>\n",
       "      <th>2</th>\n",
       "      <td>3</td>\n",
       "      <td>Valencia</td>\n",
       "      <td>30</td>\n",
       "      <td>17</td>\n",
       "      <td>3</td>\n",
       "      <td>10</td>\n",
       "      <td>64</td>\n",
       "      <td>48</td>\n",
       "      <td>+16</td>\n",
       "      <td>37</td>\n",
       "      <td>1950-51</td>\n",
       "    </tr>\n",
       "    <tr>\n",
       "      <th>3</th>\n",
       "      <td>4</td>\n",
       "      <td>Barcelona</td>\n",
       "      <td>30</td>\n",
       "      <td>16</td>\n",
       "      <td>3</td>\n",
       "      <td>11</td>\n",
       "      <td>83</td>\n",
       "      <td>61</td>\n",
       "      <td>+22</td>\n",
       "      <td>35</td>\n",
       "      <td>1950-51</td>\n",
       "    </tr>\n",
       "    <tr>\n",
       "      <th>4</th>\n",
       "      <td>5</td>\n",
       "      <td>Real Sociedad</td>\n",
       "      <td>30</td>\n",
       "      <td>15</td>\n",
       "      <td>5</td>\n",
       "      <td>10</td>\n",
       "      <td>77</td>\n",
       "      <td>56</td>\n",
       "      <td>+21</td>\n",
       "      <td>35</td>\n",
       "      <td>1950-51</td>\n",
       "    </tr>\n",
       "    <tr>\n",
       "      <th>...</th>\n",
       "      <td>...</td>\n",
       "      <td>...</td>\n",
       "      <td>...</td>\n",
       "      <td>...</td>\n",
       "      <td>...</td>\n",
       "      <td>...</td>\n",
       "      <td>...</td>\n",
       "      <td>...</td>\n",
       "      <td>...</td>\n",
       "      <td>...</td>\n",
       "      <td>...</td>\n",
       "    </tr>\n",
       "    <tr>\n",
       "      <th>1323</th>\n",
       "      <td>16</td>\n",
       "      <td>Mallorca</td>\n",
       "      <td>38</td>\n",
       "      <td>10</td>\n",
       "      <td>9</td>\n",
       "      <td>19</td>\n",
       "      <td>36</td>\n",
       "      <td>63</td>\n",
       "      <td>−27</td>\n",
       "      <td>39</td>\n",
       "      <td>2021-22</td>\n",
       "    </tr>\n",
       "    <tr>\n",
       "      <th>1324</th>\n",
       "      <td>17</td>\n",
       "      <td>Cádiz</td>\n",
       "      <td>38</td>\n",
       "      <td>8</td>\n",
       "      <td>15</td>\n",
       "      <td>15</td>\n",
       "      <td>35</td>\n",
       "      <td>51</td>\n",
       "      <td>−16</td>\n",
       "      <td>39</td>\n",
       "      <td>2021-22</td>\n",
       "    </tr>\n",
       "    <tr>\n",
       "      <th>1325</th>\n",
       "      <td>18</td>\n",
       "      <td>Granada</td>\n",
       "      <td>38</td>\n",
       "      <td>8</td>\n",
       "      <td>14</td>\n",
       "      <td>16</td>\n",
       "      <td>44</td>\n",
       "      <td>61</td>\n",
       "      <td>−17</td>\n",
       "      <td>38</td>\n",
       "      <td>2021-22</td>\n",
       "    </tr>\n",
       "    <tr>\n",
       "      <th>1326</th>\n",
       "      <td>19</td>\n",
       "      <td>Levante</td>\n",
       "      <td>38</td>\n",
       "      <td>8</td>\n",
       "      <td>11</td>\n",
       "      <td>19</td>\n",
       "      <td>51</td>\n",
       "      <td>76</td>\n",
       "      <td>−25</td>\n",
       "      <td>35</td>\n",
       "      <td>2021-22</td>\n",
       "    </tr>\n",
       "    <tr>\n",
       "      <th>1327</th>\n",
       "      <td>20</td>\n",
       "      <td>Alavés</td>\n",
       "      <td>38</td>\n",
       "      <td>8</td>\n",
       "      <td>7</td>\n",
       "      <td>23</td>\n",
       "      <td>31</td>\n",
       "      <td>65</td>\n",
       "      <td>−34</td>\n",
       "      <td>31</td>\n",
       "      <td>2021-22</td>\n",
       "    </tr>\n",
       "  </tbody>\n",
       "</table>\n",
       "<p>1328 rows × 11 columns</p>\n",
       "</div>"
      ],
      "text/plain": [
       "      position             team  played  won  drawn  lost  goals_for   \n",
       "0            1  Atlético Madrid      30   17      6     7         87  \\\n",
       "1            2          Sevilla      30   17      4     9         79   \n",
       "2            3         Valencia      30   17      3    10         64   \n",
       "3            4        Barcelona      30   16      3    11         83   \n",
       "4            5    Real Sociedad      30   15      5    10         77   \n",
       "...        ...              ...     ...  ...    ...   ...        ...   \n",
       "1323        16         Mallorca      38   10      9    19         36   \n",
       "1324        17            Cádiz      38    8     15    15         35   \n",
       "1325        18          Granada      38    8     14    16         44   \n",
       "1326        19          Levante      38    8     11    19         51   \n",
       "1327        20           Alavés      38    8      7    23         31   \n",
       "\n",
       "      goals_against goal_difference  points     year  \n",
       "0                50             +37      40  1950-51  \n",
       "1                46             +33      38  1950-51  \n",
       "2                48             +16      37  1950-51  \n",
       "3                61             +22      35  1950-51  \n",
       "4                56             +21      35  1950-51  \n",
       "...             ...             ...     ...      ...  \n",
       "1323             63             −27      39  2021-22  \n",
       "1324             51             −16      39  2021-22  \n",
       "1325             61             −17      38  2021-22  \n",
       "1326             76             −25      35  2021-22  \n",
       "1327             65             −34      31  2021-22  \n",
       "\n",
       "[1328 rows x 11 columns]"
      ]
     },
     "execution_count": 17,
     "metadata": {},
     "output_type": "execute_result"
    }
   ],
   "source": [
    "consolidated_df"
   ]
  },
  {
   "cell_type": "code",
   "execution_count": 18,
   "metadata": {},
   "outputs": [],
   "source": [
    "consolidated_df.to_csv(\"consolidated_data/consolidated.csv\", index=False)"
   ]
  }
 ],
 "metadata": {
  "kernelspec": {
   "display_name": "Python 3 (ipykernel)",
   "language": "python",
   "name": "python3"
  },
  "language_info": {
   "codemirror_mode": {
    "name": "ipython",
    "version": 3
   },
   "file_extension": ".py",
   "mimetype": "text/x-python",
   "name": "python",
   "nbconvert_exporter": "python",
   "pygments_lexer": "ipython3",
   "version": "3.8.0"
  }
 },
 "nbformat": 4,
 "nbformat_minor": 4
}
