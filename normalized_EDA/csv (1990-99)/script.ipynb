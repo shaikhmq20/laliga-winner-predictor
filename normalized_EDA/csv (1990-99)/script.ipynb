{
 "cells": [
  {
   "cell_type": "code",
   "execution_count": 1,
   "metadata": {},
   "outputs": [],
   "source": [
    "import pandas as pd\n",
    "import numpy as np\n",
    "from sklearn import preprocessing"
   ]
  },
  {
   "cell_type": "code",
   "execution_count": 11,
   "metadata": {},
   "outputs": [
    {
     "name": "stdout",
     "output_type": "stream",
     "text": [
      "[0.29478029 0.2734194  0.2734194  0.26914722 0.26487504 0.26060286\n",
      " 0.22642544 0.22642544 0.22215326 0.21788108 0.21360891 0.20506455\n",
      " 0.20079237 0.20079237 0.19652019 0.19224801 0.19224801 0.17943148\n",
      " 0.16234277 0.11962099]\n",
      "[0.33765724 0.3054994  0.28942049 0.25726266 0.25726266 0.27334157\n",
      " 0.24118374 0.22510482 0.24118374 0.22510482 0.19294699 0.17686808\n",
      " 0.17686808 0.19294699 0.16078916 0.17686808 0.17686808 0.17686808\n",
      " 0.14471024 0.08039458]\n",
      "[0.17849054 0.19471695 0.16226413 0.11358489 0.1298113  0.17849054\n",
      " 0.24339619 0.21094337 0.2596226  0.24339619 0.19471695 0.19471695\n",
      " 0.21094337 0.24339619 0.19471695 0.24339619 0.24339619 0.29207543\n",
      " 0.29207543 0.32452826]\n",
      "[0.11603007 0.13536841 0.19338345 0.29007517 0.27073683 0.19338345\n",
      " 0.15470676 0.21272179 0.13536841 0.1740451  0.27073683 0.29007517\n",
      " 0.27073683 0.21272179 0.30941352 0.23206014 0.23206014 0.1740451\n",
      " 0.21272179 0.25139848]\n"
     ]
    }
   ],
   "source": [
    "year=\"1999-2000\"\n",
    "string=\"laliga_points_table_\"+year+\".csv\"\n",
    "data=pd.read_csv(string)\n",
    "points=data[\"points\"]\n",
    "won=data[\"won\"]\n",
    "lost=data[\"lost\"]\n",
    "draw=data[\"drawn\"]\n",
    "position=data[\"position\"]\n",
    "team=data[\"team\"]\n",
    "played=data[\"played\"]\n",
    "goals_for=data[\"goals_for\"]\n",
    "goals_against=data[\"goals_against\"]\n",
    "goal_difference=data[\"goal_difference\"]\n",
    "\n",
    "\n",
    "\n",
    "#points=np.array(points)\n",
    "#won=np.array(won)\n",
    "#lost=np.array(lost)\n",
    "\n",
    "#print(points)\n",
    "normalized_arr_points = preprocessing.normalize([points]).flatten()\n",
    "\n",
    "normalized_arr_won=preprocessing.normalize([won]).flatten()\n",
    "normalized_arr_lost=preprocessing.normalize([lost]).flatten()\n",
    "normalized_arr_draw=preprocessing.normalize([draw]).flatten()\n",
    "#normalized_arr_goals_for=preprocessing.normalize([goals_for]).flatten()\n",
    "#normalized_arr_goals_against=preprocessing.normalize([goals_against]).flatten()\n",
    "#normalized_arr_goals_difference=preprocessing.normalize([goal_difference]).flatten()\n",
    "print(normalized_arr_points)\n",
    "print(normalized_arr_won)\n",
    "print(normalized_arr_lost)\n",
    "print(normalized_arr_draw)\n",
    "data1={\"position\":position,\"team\":team,\"played\":played,\"won\":normalized_arr_won,\"lost\":normalized_arr_lost,\"drawn\":normalized_arr_draw,\"goals_for\":goals_for,\"goals_against\":goals_against,\"goal_difference\":goal_difference,\"points\":normalized_arr_points}\n",
    "df=pd.DataFrame(data1)\n",
    "string2=year+\"_normalized.csv\"\n",
    "df.to_csv(string2,index=False)"
   ]
  }
 ],
 "metadata": {
  "kernelspec": {
   "display_name": "Python 3",
   "language": "python",
   "name": "python3"
  },
  "language_info": {
   "codemirror_mode": {
    "name": "ipython",
    "version": 3
   },
   "file_extension": ".py",
   "mimetype": "text/x-python",
   "name": "python",
   "nbconvert_exporter": "python",
   "pygments_lexer": "ipython3",
   "version": "3.11.0"
  },
  "orig_nbformat": 4
 },
 "nbformat": 4,
 "nbformat_minor": 2
}
