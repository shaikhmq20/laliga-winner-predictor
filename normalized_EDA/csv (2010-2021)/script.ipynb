{
 "cells": [
  {
   "cell_type": "code",
   "execution_count": null,
   "metadata": {},
   "outputs": [],
   "source": [
    "import pandas as pd\n",
    "import numpy as np\n",
    "from sklearn import preprocessing"
   ]
  },
  {
   "cell_type": "code",
   "execution_count": 3,
   "metadata": {},
   "outputs": [
    {
     "name": "stderr",
     "output_type": "stream",
     "text": [
      "\n",
      "[notice] A new release of pip available: 22.3 -> 23.0.1\n",
      "[notice] To update, run: python.exe -m pip install --upgrade pip\n"
     ]
    },
    {
     "name": "stdout",
     "output_type": "stream",
     "text": [
      "Requirement already satisfied: sklearn in c:\\python311\\lib\\site-packages (0.0.post1)\n"
     ]
    }
   ],
   "source": [
    "!pip install sklearn"
   ]
  },
  {
   "cell_type": "code",
   "execution_count": 5,
   "metadata": {},
   "outputs": [
    {
     "name": "stdout",
     "output_type": "stream",
     "text": [
      "Collecting scikit-learn\n",
      "  Downloading scikit_learn-1.2.1-cp311-cp311-win_amd64.whl (8.2 MB)\n",
      "     ---------------------------------------- 8.2/8.2 MB 1.1 MB/s eta 0:00:00\n",
      "Requirement already satisfied: numpy>=1.17.3 in c:\\python311\\lib\\site-packages (from scikit-learn) (1.24.2)\n",
      "Requirement already satisfied: scipy>=1.3.2 in c:\\python311\\lib\\site-packages (from scikit-learn) (1.10.0)\n",
      "Requirement already satisfied: joblib>=1.1.1 in c:\\python311\\lib\\site-packages (from scikit-learn) (1.2.0)\n",
      "Collecting threadpoolctl>=2.0.0\n",
      "  Downloading threadpoolctl-3.1.0-py3-none-any.whl (14 kB)\n",
      "Installing collected packages: threadpoolctl, scikit-learn\n",
      "Successfully installed scikit-learn-1.2.1 threadpoolctl-3.1.0\n"
     ]
    },
    {
     "name": "stderr",
     "output_type": "stream",
     "text": [
      "\n",
      "[notice] A new release of pip available: 22.3 -> 23.0.1\n",
      "[notice] To update, run: python.exe -m pip install --upgrade pip\n"
     ]
    }
   ],
   "source": [
    "!pip install -U scikit-learn"
   ]
  },
  {
   "cell_type": "code",
   "execution_count": 1,
   "metadata": {},
   "outputs": [],
   "source": [
    "import pandas as pd\n",
    "import numpy as np\n",
    "from sklearn import preprocessing"
   ]
  },
  {
   "cell_type": "code",
   "execution_count": 15,
   "metadata": {},
   "outputs": [
    {
     "name": "stdout",
     "output_type": "stream",
     "text": [
      "[0.35909785 0.30481562 0.29646451 0.29228895 0.27141117 0.2588845\n",
      " 0.24635783 0.2296556  0.20042671 0.19625115 0.1920756  0.17537337\n",
      " 0.17537337 0.17537337 0.1628467  0.1628467  0.1628467  0.15867114\n",
      " 0.14614448 0.12944225]\n",
      "[0.40335536 0.32578702 0.32578702 0.27924602 0.29475969 0.26373235\n",
      " 0.24821868 0.21719135 0.17065035 0.18616401 0.18616401 0.17065035\n",
      " 0.17065035 0.15513668 0.12410934 0.15513668 0.12410934 0.12410934\n",
      " 0.12410934 0.12410934]\n",
      "[0.06238587 0.10917528 0.14036821 0.06238587 0.17156115 0.15596468\n",
      " 0.17156115 0.17156115 0.18715762 0.23394702 0.24954349 0.28073643\n",
      " 0.28073643 0.24954349 0.23394702 0.29633289 0.23394702 0.24954349\n",
      " 0.29633289 0.35871877]\n",
      "[0.15665209 0.19581511 0.15665209 0.31330418 0.15665209 0.21539662\n",
      " 0.21539662 0.25455965 0.29372267 0.21539662 0.19581511 0.1762336\n",
      " 0.1762336  0.23497813 0.29372267 0.1762336  0.29372267 0.27414116\n",
      " 0.21539662 0.13707058]\n"
     ]
    }
   ],
   "source": [
    "year=\"2021-22\"\n",
    "string=\"laliga_points_table_\"+year+\".csv\"\n",
    "data=pd.read_csv(string)\n",
    "points=data[\"points\"]\n",
    "won=data[\"won\"]\n",
    "lost=data[\"lost\"]\n",
    "draw=data[\"drawn\"]\n",
    "position=data[\"position\"]\n",
    "team=data[\"team\"]\n",
    "played=data[\"played\"]\n",
    "goals_for=data[\"goals_for\"]\n",
    "goals_against=data[\"goals_against\"]\n",
    "goal_difference=data[\"goal_difference\"]\n",
    "\n",
    "\n",
    "\n",
    "#points=np.array(points)\n",
    "#won=np.array(won)\n",
    "#lost=np.array(lost)\n",
    "\n",
    "#print(points)\n",
    "normalized_arr_points = preprocessing.normalize([points]).flatten()\n",
    "\n",
    "normalized_arr_won=preprocessing.normalize([won]).flatten()\n",
    "normalized_arr_lost=preprocessing.normalize([lost]).flatten()\n",
    "normalized_arr_draw=preprocessing.normalize([draw]).flatten()\n",
    "print(normalized_arr_points)\n",
    "print(normalized_arr_won)\n",
    "print(normalized_arr_lost)\n",
    "print(normalized_arr_draw)\n",
    "data1={\"position\":position,\"team\":team,\"played\":played,\"won\":normalized_arr_won,\"lost\":normalized_arr_lost,\"drawn\":normalized_arr_draw,\"goals_for\":goals_for,\"goals_against\":goals_against,\"goal_difference\":goal_difference,\"points\":normalized_arr_points}\n",
    "df=pd.DataFrame(data1)\n",
    "string2=year+\"_normalized.csv\"\n",
    "df.to_csv(string2,index=False)\n",
    "\n",
    "\n"
   ]
  },
  {
   "cell_type": "code",
   "execution_count": 7,
   "metadata": {},
   "outputs": [
    {
     "name": "stdout",
     "output_type": "stream",
     "text": [
      "[[0.11785113 0.1767767  0.29462783 0.35355339 0.41247896 0.23570226\n",
      "  0.47140452 0.41247896 0.35355339]]\n"
     ]
    }
   ],
   "source": [
    "\n",
    "\n",
    "x_array = np.array([2,3,5,6,7,4,8,7,6])\n",
    "normalized_arr = preprocessing.normalize([x_array])\n",
    "print(normalized_arr)"
   ]
  }
 ],
 "metadata": {
  "kernelspec": {
   "display_name": "Python 3",
   "language": "python",
   "name": "python3"
  },
  "language_info": {
   "codemirror_mode": {
    "name": "ipython",
    "version": 3
   },
   "file_extension": ".py",
   "mimetype": "text/x-python",
   "name": "python",
   "nbconvert_exporter": "python",
   "pygments_lexer": "ipython3",
   "version": "3.11.0"
  },
  "orig_nbformat": 4
 },
 "nbformat": 4,
 "nbformat_minor": 2
}
