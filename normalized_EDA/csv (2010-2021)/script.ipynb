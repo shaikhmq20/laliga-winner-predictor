{
 "cells": [
  {
   "cell_type": "code",
   "execution_count": 1,
   "metadata": {},
   "outputs": [],
   "source": [
    "import pandas as pd\n",
    "import numpy as np\n",
    "from sklearn import preprocessing"
   ]
  },
  {
   "cell_type": "code",
   "execution_count": 2,
   "metadata": {},
   "outputs": [
    {
     "name": "stdout",
     "output_type": "stream",
     "text": [
      "Requirement already satisfied: sklearn in c:\\python311\\lib\\site-packages (0.0.post1)\n"
     ]
    },
    {
     "name": "stderr",
     "output_type": "stream",
     "text": [
      "\n",
      "[notice] A new release of pip available: 22.3 -> 23.0.1\n",
      "[notice] To update, run: python.exe -m pip install --upgrade pip\n"
     ]
    }
   ],
   "source": [
    "!pip install sklearn"
   ]
  },
  {
   "cell_type": "code",
   "execution_count": 3,
   "metadata": {},
   "outputs": [
    {
     "name": "stdout",
     "output_type": "stream",
     "text": [
      "Requirement already satisfied: scikit-learn in c:\\python311\\lib\\site-packages (1.2.1)\n",
      "Collecting scikit-learn\n",
      "  Downloading scikit_learn-1.2.2-cp311-cp311-win_amd64.whl (8.3 MB)\n",
      "     ---------------------------------------- 8.3/8.3 MB 1.4 MB/s eta 0:00:00\n",
      "Requirement already satisfied: numpy>=1.17.3 in c:\\python311\\lib\\site-packages (from scikit-learn) (1.24.2)\n",
      "Requirement already satisfied: scipy>=1.3.2 in c:\\python311\\lib\\site-packages (from scikit-learn) (1.10.0)\n",
      "Requirement already satisfied: joblib>=1.1.1 in c:\\python311\\lib\\site-packages (from scikit-learn) (1.2.0)\n",
      "Requirement already satisfied: threadpoolctl>=2.0.0 in c:\\python311\\lib\\site-packages (from scikit-learn) (3.1.0)\n",
      "Installing collected packages: scikit-learn\n",
      "  Attempting uninstall: scikit-learn\n",
      "    Found existing installation: scikit-learn 1.2.1\n",
      "    Uninstalling scikit-learn-1.2.1:\n",
      "      Successfully uninstalled scikit-learn-1.2.1\n"
     ]
    },
    {
     "name": "stderr",
     "output_type": "stream",
     "text": [
      "ERROR: Could not install packages due to an OSError: [WinError 5] Access is denied: 'C:\\\\Python311\\\\Lib\\\\site-packages\\\\~klearn\\\\.libs\\\\msvcp140.dll'\n",
      "Consider using the `--user` option or check the permissions.\n",
      "\n",
      "\n",
      "[notice] A new release of pip available: 22.3 -> 23.0.1\n",
      "[notice] To update, run: python.exe -m pip install --upgrade pip\n"
     ]
    }
   ],
   "source": [
    "!pip install -U scikit-learn"
   ]
  },
  {
   "cell_type": "code",
   "execution_count": 4,
   "metadata": {},
   "outputs": [],
   "source": [
    "import pandas as pd\n",
    "import numpy as np\n",
    "from sklearn import preprocessing"
   ]
  },
  {
   "cell_type": "code",
   "execution_count": 6,
   "metadata": {},
   "outputs": [
    {
     "name": "stdout",
     "output_type": "stream",
     "text": [
      "53.05\n",
      "20\n"
     ]
    },
    {
     "data": {
      "text/plain": [
       "'normalized_arr_points = preprocessing.normalize([points]).flatten()\\n\\nnormalized_arr_won=preprocessing.normalize([won]).flatten()\\nnormalized_arr_lost=preprocessing.normalize([lost]).flatten()\\nnormalized_arr_draw=preprocessing.normalize([draw]).flatten()\\nprint(normalized_arr_points)\\nprint(normalized_arr_won)\\nprint(normalized_arr_lost)\\nprint(normalized_arr_draw)\\ndata1={\"position\":position,\"team\":team,\"played\":played,\"won\":normalized_arr_won,\"lost\":normalized_arr_lost,\"drawn\":normalized_arr_draw,\"goals_for\":goals_for,\"goals_against\":goals_against,\"goal_difference\":goal_difference,\"points\":normalized_arr_points}\\ndf=pd.DataFrame(data1)\\nstring2=year+\"_normalized.csv\"\\ndf.to_csv(string2,index=False)\\n'"
      ]
     },
     "execution_count": 6,
     "metadata": {},
     "output_type": "execute_result"
    }
   ],
   "source": [
    "\n",
    "\n",
    "\n",
    "\n",
    "year=\"2010-11\"\n",
    "string=\"laliga_points_table_\"+year+\".csv\"\n",
    "data=pd.read_csv(string)\n",
    "points=data[\"points\"]\n",
    "won=data[\"won\"]\n",
    "lost=data[\"lost\"]\n",
    "draw=data[\"drawn\"]\n",
    "position=data[\"position\"]\n",
    "team=data[\"team\"]\n",
    "played=data[\"played\"]\n",
    "goals_for=data[\"goals_for\"]\n",
    "goals_against=data[\"goals_against\"]\n",
    "goal_difference=data[\"goal_difference\"]\n",
    "\n",
    "mean=np.mean(points)\n",
    "size=np.size(points)\n",
    "print(mean)\n",
    "print(size)\n",
    "\n",
    "\n",
    "\n",
    "\n",
    "\n",
    "\n",
    "#points=np.array(points)\n",
    "#won=np.array(won)\n",
    "#lost=np.array(lost)\n",
    "\n",
    "#print(points)\n",
    "\"\"\"normalized_arr_points = preprocessing.normalize([points]).flatten()\n",
    "\n",
    "normalized_arr_won=preprocessing.normalize([won]).flatten()\n",
    "normalized_arr_lost=preprocessing.normalize([lost]).flatten()\n",
    "normalized_arr_draw=preprocessing.normalize([draw]).flatten()\n",
    "print(normalized_arr_points)\n",
    "print(normalized_arr_won)\n",
    "print(normalized_arr_lost)\n",
    "print(normalized_arr_draw)\n",
    "data1={\"position\":position,\"team\":team,\"played\":played,\"won\":normalized_arr_won,\"lost\":normalized_arr_lost,\"drawn\":normalized_arr_draw,\"goals_for\":goals_for,\"goals_against\":goals_against,\"goal_difference\":goal_difference,\"points\":normalized_arr_points}\n",
    "df=pd.DataFrame(data1)\n",
    "string2=year+\"_normalized.csv\"\n",
    "df.to_csv(string2,index=False)\n",
    "\"\"\"\n"
   ]
  },
  {
   "cell_type": "code",
   "execution_count": 6,
   "metadata": {},
   "outputs": [
    {
     "name": "stdout",
     "output_type": "stream",
     "text": [
      "[[0.11785113 0.1767767  0.29462783 0.35355339 0.41247896 0.23570226\n",
      "  0.47140452 0.41247896 0.35355339]]\n"
     ]
    }
   ],
   "source": [
    "\n",
    "\n",
    "x_array = np.array([2,3,5,6,7,4,8,7,6])\n",
    "normalized_arr = preprocessing.normalize([x_array])\n",
    "print(normalized_arr)"
   ]
  }
 ],
 "metadata": {
  "kernelspec": {
   "display_name": "Python 3",
   "language": "python",
   "name": "python3"
  },
  "language_info": {
   "codemirror_mode": {
    "name": "ipython",
    "version": 3
   },
   "file_extension": ".py",
   "mimetype": "text/x-python",
   "name": "python",
   "nbconvert_exporter": "python",
   "pygments_lexer": "ipython3",
   "version": "3.11.0"
  },
  "orig_nbformat": 4
 },
 "nbformat": 4,
 "nbformat_minor": 2
}
