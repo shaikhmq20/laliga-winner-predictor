{
 "cells": [
  {
   "cell_type": "code",
   "execution_count": 24,
   "metadata": {},
   "outputs": [],
   "source": [
    "import pandas as pd\n",
    "import numpy as np\n",
    "from sklearn import preprocessing"
   ]
  },
  {
   "cell_type": "code",
   "execution_count": 26,
   "metadata": {},
   "outputs": [
    {
     "ename": "ValueError",
     "evalue": "invalid literal for int() with base 10: '+'",
     "output_type": "error",
     "traceback": [
      "\u001b[1;31m---------------------------------------------------------------------------\u001b[0m",
      "\u001b[1;31mValueError\u001b[0m                                Traceback (most recent call last)",
      "Cell \u001b[1;32mIn[26], line 16\u001b[0m\n\u001b[0;32m     14\u001b[0m new_difference\u001b[39m=\u001b[39m[]\n\u001b[0;32m     15\u001b[0m \u001b[39mfor\u001b[39;00m i \u001b[39min\u001b[39;00m goal_difference:\n\u001b[1;32m---> 16\u001b[0m    \u001b[39mprint\u001b[39m(\u001b[39mint\u001b[39;49m(i[\u001b[39m0\u001b[39;49m]))\n\u001b[0;32m     21\u001b[0m \u001b[39m#points=np.array(points)\u001b[39;00m\n\u001b[0;32m     22\u001b[0m \u001b[39m#won=np.array(won)\u001b[39;00m\n\u001b[0;32m     23\u001b[0m \u001b[39m#lost=np.array(lost)\u001b[39;00m\n\u001b[1;32m   (...)\u001b[0m\n\u001b[0;32m     40\u001b[0m \u001b[39m#string2=year+\"_normalized.csv\"\u001b[39;00m\n\u001b[0;32m     41\u001b[0m \u001b[39m#df.to_csv(string2,index=False)\u001b[39;00m\n",
      "\u001b[1;31mValueError\u001b[0m: invalid literal for int() with base 10: '+'"
     ]
    }
   ],
   "source": [
    "year=\"2006-07\"\n",
    "string=\"laliga_points_table_\"+year+\".csv\"\n",
    "data=pd.read_csv(string)\n",
    "points=data[\"points\"]\n",
    "won=data[\"won\"]\n",
    "lost=data[\"lost\"]\n",
    "draw=data[\"drawn\"]\n",
    "position=data[\"position\"]\n",
    "team=data[\"team\"]\n",
    "played=data[\"played\"]\n",
    "goals_for=data[\"goals_for\"]\n",
    "goals_against=data[\"goals_against\"]\n",
    "goal_difference=data[\"goal_difference\"]\n",
    "new_difference=[]\n",
    "for i in goal_difference:\n",
    "   print(int(i[0]))\n",
    "\n",
    "\n",
    "\n",
    "\n",
    "points=np.array(points)\n",
    "won=np.array(won)\n",
    "lost=np.array(lost)\n",
    "print(points)\n",
    "normalized_arr_points = preprocessing.normalize([points]).flatten()\n",
    "\n",
    "normalized_arr_won=preprocessing.normalize([won]).flatten()\n",
    "normalized_arr_lost=preprocessing.normalize([lost]).flatten()\n",
    "normalized_arr_draw=preprocessing.normalize([draw]).flatten()\n",
    "#normalized_arr_goals_for=preprocessing.normalize([goals_for]).flatten()\n",
    "#normalized_arr_goals_against=preprocessing.normalize([goals_against]).flatten()\n",
    "normalized_arr_goals_difference=preprocessing.normalize([goal_difference]).flatten()\n",
    "print(normalized_arr_points)\n",
    "print(normalized_arr_won)\n",
    "print(normalized_arr_lost)\n",
    "print(normalized_arr_draw)\n",
    "data1={\"position\":position,\"team\":team,\"played\":played,\"won\":normalized_arr_won,\"lost\":normalized_arr_lost,\"drawn\":normalized_arr_draw,\"goals_for\":goals_for,\"goals_against\":goals_against,\"goal_difference\":goal_difference,\"points\":normalized_arr_points}\n",
    "df=pd.DataFrame(data1)\n",
    "string2=year+\"_normalized.csv\"\n",
    "df.to_csv(string2,index=False)"
   ]
  },
  {
   "cell_type": "code",
   "execution_count": 20,
   "metadata": {},
   "outputs": [
    {
     "data": {
      "text/plain": [
       "position             int64\n",
       "team                object\n",
       "played               int64\n",
       "won                float64\n",
       "lost               float64\n",
       "drawn              float64\n",
       "goals_for            int64\n",
       "goals_against        int64\n",
       "goal_difference     object\n",
       "points             float64\n",
       "dtype: object"
      ]
     },
     "execution_count": 20,
     "metadata": {},
     "output_type": "execute_result"
    }
   ],
   "source": [
    "df.dtypes"
   ]
  }
 ],
 "metadata": {
  "kernelspec": {
   "display_name": "Python 3",
   "language": "python",
   "name": "python3"
  },
  "language_info": {
   "codemirror_mode": {
    "name": "ipython",
    "version": 3
   },
   "file_extension": ".py",
   "mimetype": "text/x-python",
   "name": "python",
   "nbconvert_exporter": "python",
   "pygments_lexer": "ipython3",
   "version": "3.11.0"
  },
  "orig_nbformat": 4
 },
 "nbformat": 4,
 "nbformat_minor": 2
}
