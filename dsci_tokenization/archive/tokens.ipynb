{
 "cells": [
  {
   "cell_type": "code",
   "execution_count": 13,
   "metadata": {},
   "outputs": [],
   "source": [
    "import pandas as pd"
   ]
  },
  {
   "cell_type": "code",
   "execution_count": 14,
   "metadata": {},
   "outputs": [
    {
     "data": {
      "text/html": [
       "<div>\n",
       "<style scoped>\n",
       "    .dataframe tbody tr th:only-of-type {\n",
       "        vertical-align: middle;\n",
       "    }\n",
       "\n",
       "    .dataframe tbody tr th {\n",
       "        vertical-align: top;\n",
       "    }\n",
       "\n",
       "    .dataframe thead th {\n",
       "        text-align: right;\n",
       "    }\n",
       "</style>\n",
       "<table border=\"1\" class=\"dataframe\">\n",
       "  <thead>\n",
       "    <tr style=\"text-align: right;\">\n",
       "      <th></th>\n",
       "      <th>original_review_text</th>\n",
       "      <th>new_review_text</th>\n",
       "      <th>tokens</th>\n",
       "    </tr>\n",
       "  </thead>\n",
       "  <tbody>\n",
       "    <tr>\n",
       "      <th>0</th>\n",
       "      <td>NOTE:</td>\n",
       "      <td>NOTE:</td>\n",
       "      <td>2</td>\n",
       "    </tr>\n",
       "    <tr>\n",
       "      <th>1</th>\n",
       "      <td>Very bad experience with this iPhone xr phone....</td>\n",
       "      <td>Very bad experience with this iPhone xr phone....</td>\n",
       "      <td>48</td>\n",
       "    </tr>\n",
       "    <tr>\n",
       "      <th>2</th>\n",
       "      <td>Amazing phone with amazing camera coming from ...</td>\n",
       "      <td>Amazing phone with amazing camera coming from ...</td>\n",
       "      <td>14</td>\n",
       "    </tr>\n",
       "    <tr>\n",
       "      <th>3</th>\n",
       "      <td>So I got the iPhone XR just today. The product...</td>\n",
       "      <td>So I got the iPhone XR just today. The product...</td>\n",
       "      <td>165</td>\n",
       "    </tr>\n",
       "    <tr>\n",
       "      <th>4</th>\n",
       "      <td>I've been an android user all my life until I ...</td>\n",
       "      <td>I have been an android user all my life until ...</td>\n",
       "      <td>90</td>\n",
       "    </tr>\n",
       "    <tr>\n",
       "      <th>...</th>\n",
       "      <td>...</td>\n",
       "      <td>...</td>\n",
       "      <td>...</td>\n",
       "    </tr>\n",
       "    <tr>\n",
       "      <th>5005</th>\n",
       "      <td>Dhamaka</td>\n",
       "      <td>Dhamaka</td>\n",
       "      <td>1</td>\n",
       "    </tr>\n",
       "    <tr>\n",
       "      <th>5006</th>\n",
       "      <td>Goodbye</td>\n",
       "      <td>Goodbye</td>\n",
       "      <td>1</td>\n",
       "    </tr>\n",
       "    <tr>\n",
       "      <th>5007</th>\n",
       "      <td>Nothing</td>\n",
       "      <td>Nothing</td>\n",
       "      <td>1</td>\n",
       "    </tr>\n",
       "    <tr>\n",
       "      <th>5008</th>\n",
       "      <td>Superbb</td>\n",
       "      <td>Superbb</td>\n",
       "      <td>1</td>\n",
       "    </tr>\n",
       "    <tr>\n",
       "      <th>5009</th>\n",
       "      <td>Nothing</td>\n",
       "      <td>Nothing</td>\n",
       "      <td>1</td>\n",
       "    </tr>\n",
       "  </tbody>\n",
       "</table>\n",
       "<p>5010 rows × 3 columns</p>\n",
       "</div>"
      ],
      "text/plain": [
       "                                   original_review_text  \\\n",
       "0                                                 NOTE:   \n",
       "1     Very bad experience with this iPhone xr phone....   \n",
       "2     Amazing phone with amazing camera coming from ...   \n",
       "3     So I got the iPhone XR just today. The product...   \n",
       "4     I've been an android user all my life until I ...   \n",
       "...                                                 ...   \n",
       "5005                                            Dhamaka   \n",
       "5006                                            Goodbye   \n",
       "5007                                            Nothing   \n",
       "5008                                            Superbb   \n",
       "5009                                            Nothing   \n",
       "\n",
       "                                        new_review_text  tokens  \n",
       "0                                                 NOTE:       2  \n",
       "1     Very bad experience with this iPhone xr phone....      48  \n",
       "2     Amazing phone with amazing camera coming from ...      14  \n",
       "3     So I got the iPhone XR just today. The product...     165  \n",
       "4     I have been an android user all my life until ...      90  \n",
       "...                                                 ...     ...  \n",
       "5005                                            Dhamaka       1  \n",
       "5006                                            Goodbye       1  \n",
       "5007                                            Nothing       1  \n",
       "5008                                            Superbb       1  \n",
       "5009                                            Nothing       1  \n",
       "\n",
       "[5010 rows x 3 columns]"
      ]
     },
     "execution_count": 14,
     "metadata": {},
     "output_type": "execute_result"
    }
   ],
   "source": [
    "df = pd.read_csv(\"new.csv\")\n",
    "df"
   ]
  },
  {
   "cell_type": "code",
   "execution_count": 15,
   "metadata": {},
   "outputs": [],
   "source": [
    "with open(\"112003129_Assign2_Normalized.txt\", \"a\", encoding=\"utf-8\") as file:\n",
    "    for col, series in df.iterrows():\n",
    "        string = str(series[\"new_review_text\"]) + \"\\t\\t\" + str(series[\"tokens\"]) + \"\\n\\n\"\n",
    "        file.write(string)"
   ]
  }
 ],
 "metadata": {
  "kernelspec": {
   "display_name": "Python 3",
   "language": "python",
   "name": "python3"
  },
  "language_info": {
   "codemirror_mode": {
    "name": "ipython",
    "version": 3
   },
   "file_extension": ".py",
   "mimetype": "text/x-python",
   "name": "python",
   "nbconvert_exporter": "python",
   "pygments_lexer": "ipython3",
   "version": "3.11.2"
  },
  "orig_nbformat": 4,
  "vscode": {
   "interpreter": {
    "hash": "52634da84371cba311ea128a5ea7cdc41ff074b781779e754b270ff9f8153cee"
   }
  }
 },
 "nbformat": 4,
 "nbformat_minor": 2
}
