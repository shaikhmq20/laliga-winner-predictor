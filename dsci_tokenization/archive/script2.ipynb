{
 "cells": [
  {
   "cell_type": "code",
   "execution_count": 3,
   "metadata": {},
   "outputs": [],
   "source": [
    "import pandas as pd\n",
    "import numpy as np\n",
    "data = pd.read_csv(\"reviews.csv\")\n",
    "arr=[]\n",
    "data['review_text']  # as a Series\n",
    "\n",
    "arr=data['review_text'].values # as a numpy array\n",
    "\n",
    "\n",
    "#arr=data['review_text'].values # as a numpy array\n",
    "#file1=open(\"a.txt\",\"a\",encoding=\"utf-8\")\n",
    "#print(arr[1])"
   ]
  },
  {
   "cell_type": "code",
   "execution_count": 4,
   "metadata": {},
   "outputs": [],
   "source": [
    "import csv"
   ]
  },
  {
   "cell_type": "code",
   "execution_count": 5,
   "metadata": {},
   "outputs": [],
   "source": [
    "\n",
    "headers={\"original_review_text\",\"new_review_text\",\"tokens\"}\n",
    "\n"
   ]
  },
  {
   "cell_type": "code",
   "execution_count": 6,
   "metadata": {},
   "outputs": [],
   "source": [
    "import contractions\n",
    "from nltk.tokenize import sent_tokenize\n",
    "from nltk.tokenize import word_tokenize\n",
    "from nltk.tokenize import WhitespaceTokenizer\n",
    "from nltk.tokenize import wordpunct_tokenize\n",
    "def tokenize(arr):\n",
    "       \n",
    " with open('new.csv', 'w', encoding='UTF8') as f:\n",
    "       writer =csv.writer(f)\n",
    "       writer.writerow(headers)       \n",
    "       for i in range(0,len(arr)):\n",
    "            arr1=[]\n",
    "            text=str(arr[i])\n",
    "            expanded_words = []   \n",
    "            for word in text.split():\n",
    "            \n",
    "              \n",
    "              if(word[-1]=='\\'' and word[-2]=='s'):\n",
    "                if(word[0].isupper()):\n",
    "                  word=word+\"s\"\n",
    "                 \n",
    "              \n",
    "              expanded_words.append(contractions.fix(word))       \n",
    "            expanded_text = ' '.join(expanded_words)\n",
    "            arr1=sent_tokenize(expanded_text)\n",
    "            arr1=word_tokenize(expanded_text)\n",
    "            arr1=WhitespaceTokenizer().tokenize(expanded_text)\n",
    "            arr1=wordpunct_tokenize(expanded_text)\n",
    "            data=[arr[i],expanded_text,len(arr1)]\n",
    "            writer.writerow(data)\n",
    "                \n",
    "            \n",
    "       "
   ]
  },
  {
   "cell_type": "code",
   "execution_count": null,
   "metadata": {},
   "outputs": [],
   "source": [
    "tokenize(arr)"
   ]
  }
 ],
 "metadata": {
  "kernelspec": {
   "display_name": "Python 3",
   "language": "python",
   "name": "python3"
  },
  "language_info": {
   "codemirror_mode": {
    "name": "ipython",
    "version": 3
   },
   "file_extension": ".py",
   "mimetype": "text/x-python",
   "name": "python",
   "nbconvert_exporter": "python",
   "pygments_lexer": "ipython3",
   "version": "3.11.0"
  },
  "orig_nbformat": 4,
  "vscode": {
   "interpreter": {
    "hash": "c261aea317cc0286b3b3261fbba9abdec21eaa57589985bb7a274bf54d6cc0a7"
   }
  }
 },
 "nbformat": 4,
 "nbformat_minor": 2
}
