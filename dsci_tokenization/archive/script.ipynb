{
 "cells": [
  {
   "cell_type": "code",
   "execution_count": 67,
   "metadata": {},
   "outputs": [
    {
     "name": "stdout",
     "output_type": "stream",
     "text": [
      "Very bad experience with this iPhone xr phone. Back camera found defective and non functional. Amazon is very careless. I haven't got any response on confirmation for replacing. I am just hanging with a damaged piece worth of more than 91000 rupees.\n"
     ]
    }
   ],
   "source": [
    "import pandas as pd\n",
    "import numpy as np\n",
    "data = pd.read_csv(\"reviews.csv\")\n",
    "arr=[]\n",
    "data['review_text']  # as a Series\n",
    "\n",
    "arr=data['review_text'].values # as a numpy array\n",
    "file1=open(\"a.txt\",\"a\",encoding=\"utf-8\")\n",
    "print(arr[1])\n",
    "#for i in arr:\n",
    " #   file1.write(str(i)+\"\\n\")\n"
   ]
  },
  {
   "cell_type": "code",
   "execution_count": 69,
   "metadata": {},
   "outputs": [
    {
     "name": "stdout",
     "output_type": "stream",
     "text": [
      "original\n",
      "Pathetic experience with this phone . Bought it for 60K and not worth the price . Assembled in China and lot many issues with battery and other features . Better to buy from stores which are assembled in India and are cheaper with better quality check . Learnt hard way to never but electronics from amazon .\n",
      "new\n",
      "Pathetic experience with this phone . Bought it for 60K and not worth the price . Assembled in China and lot many issues with battery and other features . Better to buy from stores which are assembled in India and are cheaper with better quality check . Learnt hard way to never but electronics from amazon .\n"
     ]
    }
   ],
   "source": [
    "import contractions\n",
    "\n",
    "\n",
    "text=str(arr[187])\n",
    "expanded_words = []   \n",
    "for word in text.split():\n",
    "\n",
    "  \n",
    "  if(word[-1]=='\\'' and word[-2]=='s'):\n",
    "    if(word[0].isupper()):\n",
    "      word=word+\"s\"\n",
    "     \n",
    "  \n",
    "  expanded_words.append(contractions.fix(word))       \n",
    "expanded_text = ' '.join(expanded_words)\n",
    "print(\"original\")\n",
    "print(text)\n",
    "print(\"new\")\n",
    "print(expanded_text)\n"
   ]
  },
  {
   "cell_type": "code",
   "execution_count": 40,
   "metadata": {},
   "outputs": [
    {
     "name": "stdout",
     "output_type": "stream",
     "text": [
      "Requirement already satisfied: python-dateutil in c:\\python311\\lib\\site-packages (2.8.2)\n",
      "Requirement already satisfied: six>=1.5 in c:\\python311\\lib\\site-packages (from python-dateutil) (1.16.0)\n"
     ]
    },
    {
     "name": "stderr",
     "output_type": "stream",
     "text": [
      "\n",
      "[notice] A new release of pip available: 22.3 -> 23.0.1\n",
      "[notice] To update, run: python.exe -m pip install --upgrade pip\n"
     ]
    }
   ],
   "source": [
    "!pip3 install python-dateutil"
   ]
  },
  {
   "cell_type": "code",
   "execution_count": 53,
   "metadata": {},
   "outputs": [
    {
     "name": "stdout",
     "output_type": "stream",
     "text": [
      "2018-11-17\n"
     ]
    }
   ],
   "source": [
    "import pandas as pd\n",
    "import numpy as np\n",
    "from dateutil import parser\n",
    "data = pd.read_csv(\"reviews.csv\")\n",
    "arr=[]\n",
    "\n",
    "arr=data['reviewed_at'].values # as a numpy array\n",
    "file1=open(\"b.txt\",\"a\",encoding=\"utf-8\")\n",
    "print(arr[1])\n",
    "for i in arr:\n",
    "     d = parser.parse(i)\n",
    "     s=d.strftime(\"%Y-%m-%d\" )\n",
    "     s=\"CF:D:\"+s\n",
    "     file1.write(str(s)+\"\\n\")\n",
    "\n"
   ]
  },
  {
   "cell_type": "code",
   "execution_count": 57,
   "metadata": {},
   "outputs": [],
   "source": [
    "import nltk\n"
   ]
  },
  {
   "cell_type": "code",
   "execution_count": 64,
   "metadata": {},
   "outputs": [
    {
     "data": {
      "text/plain": [
       "['I',\n",
       " 'have',\n",
       " 'been',\n",
       " 'an',\n",
       " 'android',\n",
       " 'user',\n",
       " 'all',\n",
       " 'my',\n",
       " 'life',\n",
       " 'until',\n",
       " 'I',\n",
       " 'decided',\n",
       " 'to',\n",
       " 'try',\n",
       " 'iPhone',\n",
       " 'XR',\n",
       " 'for',\n",
       " 'iOS',\n",
       " '.',\n",
       " 'Loving',\n",
       " 'the',\n",
       " 'camera',\n",
       " 'and',\n",
       " 'battery',\n",
       " 'life',\n",
       " 'is',\n",
       " 'an',\n",
       " 'absolute',\n",
       " 'joy',\n",
       " 'to',\n",
       " 'have',\n",
       " '.',\n",
       " 'It',\n",
       " 'is',\n",
       " 'been',\n",
       " 'more',\n",
       " 'than',\n",
       " 'one',\n",
       " 'month',\n",
       " 'since',\n",
       " 'I',\n",
       " 'got',\n",
       " 'this',\n",
       " 'phone',\n",
       " 'and',\n",
       " 'I',\n",
       " 'am',\n",
       " 'loving',\n",
       " 'it',\n",
       " '.',\n",
       " 'Face',\n",
       " 'ID',\n",
       " 'works',\n",
       " 'flawlessly',\n",
       " 'even',\n",
       " 'in',\n",
       " 'the',\n",
       " 'dark',\n",
       " 'and',\n",
       " 'the',\n",
       " 'dual',\n",
       " 'sim',\n",
       " 'function',\n",
       " 'is',\n",
       " 'working',\n",
       " 'like',\n",
       " 'a',\n",
       " 'charm',\n",
       " ',',\n",
       " 'I',\n",
       " 'am',\n",
       " 'using',\n",
       " 'Vodafone',\n",
       " 'as',\n",
       " 'my',\n",
       " 'primary',\n",
       " 'sim',\n",
       " 'and',\n",
       " 'Jio',\n",
       " 'as',\n",
       " 'e-sim',\n",
       " 'and',\n",
       " 'have',\n",
       " 'faced',\n",
       " 'no',\n",
       " 'problem',\n",
       " 'whatsoever',\n",
       " '.']"
      ]
     },
     "execution_count": 64,
     "metadata": {},
     "output_type": "execute_result"
    }
   ],
   "source": [
    "from nltk.tokenize import sent_tokenize\n",
    "from nltk.tokenize import word_tokenize\n",
    "sent_tokenize(expanded_text)\n",
    "tokenized_word=word_tokenize(expanded_text)\n",
    "word_tokenize(expanded_text)"
   ]
  },
  {
   "cell_type": "code",
   "execution_count": null,
   "metadata": {},
   "outputs": [],
   "source": []
  },
  {
   "cell_type": "code",
   "execution_count": 63,
   "metadata": {},
   "outputs": [
    {
     "data": {
      "text/plain": [
       "['I',\n",
       " 'have',\n",
       " 'been',\n",
       " 'an',\n",
       " 'android',\n",
       " 'user',\n",
       " 'all',\n",
       " 'my',\n",
       " 'life',\n",
       " 'until',\n",
       " 'I',\n",
       " 'decided',\n",
       " 'to',\n",
       " 'try',\n",
       " 'iPhone',\n",
       " 'XR',\n",
       " 'for',\n",
       " 'iOS.',\n",
       " 'Loving',\n",
       " 'the',\n",
       " 'camera',\n",
       " 'and',\n",
       " 'battery',\n",
       " 'life',\n",
       " 'is',\n",
       " 'an',\n",
       " 'absolute',\n",
       " 'joy',\n",
       " 'to',\n",
       " 'have.',\n",
       " 'It',\n",
       " 'is',\n",
       " 'been',\n",
       " 'more',\n",
       " 'than',\n",
       " 'one',\n",
       " 'month',\n",
       " 'since',\n",
       " 'I',\n",
       " 'got',\n",
       " 'this',\n",
       " 'phone',\n",
       " 'and',\n",
       " 'I',\n",
       " 'am',\n",
       " 'loving',\n",
       " 'it.',\n",
       " 'Face',\n",
       " 'ID',\n",
       " 'works',\n",
       " 'flawlessly',\n",
       " 'even',\n",
       " 'in',\n",
       " 'the',\n",
       " 'dark',\n",
       " 'and',\n",
       " 'the',\n",
       " 'dual',\n",
       " 'sim',\n",
       " 'function',\n",
       " 'is',\n",
       " 'working',\n",
       " 'like',\n",
       " 'a',\n",
       " 'charm,',\n",
       " 'I',\n",
       " 'am',\n",
       " 'using',\n",
       " 'Vodafone',\n",
       " 'as',\n",
       " 'my',\n",
       " 'primary',\n",
       " 'sim',\n",
       " 'and',\n",
       " 'Jio',\n",
       " 'as',\n",
       " 'e-sim',\n",
       " 'and',\n",
       " 'have',\n",
       " 'faced',\n",
       " 'no',\n",
       " 'problem',\n",
       " 'whatsoever.']"
      ]
     },
     "execution_count": 63,
     "metadata": {},
     "output_type": "execute_result"
    }
   ],
   "source": [
    "from nltk.tokenize import WhitespaceTokenizer\n",
    "WhitespaceTokenizer().tokenize(expanded_text)"
   ]
  },
  {
   "cell_type": "code",
   "execution_count": 88,
   "metadata": {},
   "outputs": [
    {
     "name": "stdout",
     "output_type": "stream",
     "text": [
      "['The', 'best', 'iPhone', 'in', 'affordable', 'price', 'with', 'huge', 'screen', '...', 'loved', 'it', 'to', 'the', 'core', '😍', '😍', '😍']\n",
      "18\n"
     ]
    }
   ],
   "source": [
    "from nltk.tokenize import word_tokenize\n",
    "from nltk.tokenize.casual import TweetTokenizer\n",
    "text1=\"The best iPhone in affordable price with huge screen.......loved it to the core 😍😍😍😍😍\"\n",
    "arr2=TweetTokenizer()\n",
    "r=arr2.tokenize(text1)\n",
    "print(r)\n",
    "print(len(r))\n"
   ]
  }
 ],
 "metadata": {
  "kernelspec": {
   "display_name": "Python 3",
   "language": "python",
   "name": "python3"
  },
  "language_info": {
   "codemirror_mode": {
    "name": "ipython",
    "version": 3
   },
   "file_extension": ".py",
   "mimetype": "text/x-python",
   "name": "python",
   "nbconvert_exporter": "python",
   "pygments_lexer": "ipython3",
   "version": "3.11.2"
  },
  "orig_nbformat": 4,
  "vscode": {
   "interpreter": {
    "hash": "52634da84371cba311ea128a5ea7cdc41ff074b781779e754b270ff9f8153cee"
   }
  }
 },
 "nbformat": 4,
 "nbformat_minor": 2
}
