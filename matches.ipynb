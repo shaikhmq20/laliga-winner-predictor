{
 "cells": [
  {
   "cell_type": "code",
   "execution_count": null,
   "metadata": {},
   "outputs": [],
   "source": [
    "import pandas as pd\n",
    "from bs4 import BeautifulSoup\n",
    "import requests"
   ]
  },
  {
   "cell_type": "code",
   "execution_count": null,
   "metadata": {},
   "outputs": [],
   "source": [
    "year = \"1960-61\""
   ]
  },
  {
   "cell_type": "code",
   "execution_count": null,
   "metadata": {},
   "outputs": [],
   "source": [
    "webpage = f\"https://en.wikipedia.org/wiki/{year}_La_Liga\""
   ]
  },
  {
   "cell_type": "code",
   "execution_count": null,
   "metadata": {},
   "outputs": [],
   "source": [
    "content = requests.get(webpage).text"
   ]
  },
  {
   "cell_type": "code",
   "execution_count": null,
   "metadata": {},
   "outputs": [],
   "source": [
    "soup = BeautifulSoup(content, \"html.parser\")"
   ]
  },
  {
   "cell_type": "code",
   "execution_count": null,
   "metadata": {},
   "outputs": [],
   "source": [
    "tables = soup.find_all(\"table\")"
   ]
  },
  {
   "cell_type": "code",
   "execution_count": null,
   "metadata": {},
   "outputs": [],
   "source": [
    "for table in tables:\n",
    "    if \"Home \\\\ Away\" in table.text:\n",
    "        results_table = table\n",
    "\n",
    "results_table"
   ]
  },
  {
   "cell_type": "code",
   "execution_count": null,
   "metadata": {},
   "outputs": [],
   "source": [
    "results_table_rows = results_table.findChild().find_all(\"tr\")\n",
    "results_table_rows"
   ]
  },
  {
   "cell_type": "code",
   "execution_count": null,
   "metadata": {},
   "outputs": [],
   "source": [
    "away_teams = []\n",
    "home_teams = []"
   ]
  },
  {
   "attachments": {},
   "cell_type": "markdown",
   "metadata": {},
   "source": [
    "Getting Away Team Names"
   ]
  },
  {
   "cell_type": "code",
   "execution_count": null,
   "metadata": {},
   "outputs": [],
   "source": [
    "away_teams_row = results_table_rows[0].find_all(\"th\")\n",
    "away_teams_row"
   ]
  },
  {
   "cell_type": "code",
   "execution_count": null,
   "metadata": {},
   "outputs": [],
   "source": [
    "for i in range(1, len(away_teams_row)):\n",
    "    team_name = away_teams_row[i].findChild()[\"title\"]\n",
    "    away_teams.append(team_name)"
   ]
  },
  {
   "cell_type": "code",
   "execution_count": null,
   "metadata": {},
   "outputs": [],
   "source": [
    "away_teams"
   ]
  },
  {
   "attachments": {},
   "cell_type": "markdown",
   "metadata": {},
   "source": [
    "Getting Home Teams"
   ]
  },
  {
   "cell_type": "code",
   "execution_count": null,
   "metadata": {},
   "outputs": [],
   "source": [
    "for i in range(1, len(results_table_rows)):\n",
    "    team_name = results_table_rows[i].find(\"th\").findChild()[\"title\"]\n",
    "    home_teams.append(team_name)"
   ]
  },
  {
   "cell_type": "code",
   "execution_count": null,
   "metadata": {},
   "outputs": [],
   "source": [
    "home_teams"
   ]
  },
  {
   "attachments": {},
   "cell_type": "markdown",
   "metadata": {},
   "source": [
    "Getting Match Results"
   ]
  },
  {
   "cell_type": "code",
   "execution_count": null,
   "metadata": {},
   "outputs": [],
   "source": [
    "teams_matches = {}"
   ]
  },
  {
   "cell_type": "code",
   "execution_count": null,
   "metadata": {},
   "outputs": [],
   "source": [
    "for i in range(1, len(results_table_rows)):\n",
    "    tds = results_table_rows[i].find_all(\"td\")\n",
    "    for j in range(len(tds)):\n",
    "        if \"—\" in tds[j].text.strip():\n",
    "            continue\n",
    "        try:\n",
    "            score = tds[j].find(\"a\").text.strip()\n",
    "            original = teams_matches.get(home_teams[i - 1], [])\n",
    "            original.append([away_teams[j], score.strip()])\n",
    "            teams_matches[home_teams[i - 1]] = original\n",
    "        except:\n",
    "            score = tds[j].text.strip()\n",
    "            original = teams_matches.get(home_teams[i - 1], [])\n",
    "            original.append([away_teams[j], score.strip()])\n",
    "            teams_matches[home_teams[i - 1]] = original"
   ]
  },
  {
   "cell_type": "code",
   "execution_count": null,
   "metadata": {},
   "outputs": [],
   "source": [
    "df_dict = {\"Home\": [], \"Away\": [], \"Score\": []}"
   ]
  },
  {
   "cell_type": "code",
   "execution_count": null,
   "metadata": {},
   "outputs": [],
   "source": [
    "for key, values in teams_matches.items():\n",
    "    for value in values:\n",
    "        df_dict[\"Home\"].append(key)\n",
    "        df_dict[\"Away\"].append(value[0])\n",
    "        df_dict[\"Score\"].append(value[1])"
   ]
  },
  {
   "cell_type": "code",
   "execution_count": null,
   "metadata": {},
   "outputs": [],
   "source": [
    "df = pd.DataFrame(df_dict)\n",
    "df.to_csv(f\"./results/results_{year}.csv\", index=False)"
   ]
  }
 ],
 "metadata": {
  "kernelspec": {
   "display_name": "Python 3",
   "language": "python",
   "name": "python3"
  },
  "language_info": {
   "codemirror_mode": {
    "name": "ipython",
    "version": 3
   },
   "file_extension": ".py",
   "mimetype": "text/x-python",
   "name": "python",
   "nbconvert_exporter": "python",
   "pygments_lexer": "ipython3",
   "version": "3.10.6"
  },
  "orig_nbformat": 4,
  "vscode": {
   "interpreter": {
    "hash": "1b7034bba98bfaaaa6a1b9ba802875e343f227a7c1c6438c40c8d5cead1c926a"
   }
  }
 },
 "nbformat": 4,
 "nbformat_minor": 2
}
